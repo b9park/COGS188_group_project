{
 "cells": [
  {
   "attachments": {},
   "cell_type": "markdown",
   "metadata": {},
   "source": [
    "# COGS 188 - Project Proposal"
   ]
  },
  {
   "attachments": {},
   "cell_type": "markdown",
   "metadata": {},
   "source": [
    "# Project Description\n",
    "\n",
    "You have the choice of doing either (1) an AI solve a problem style project or (2) run a Special Topics class on a topic of your choice.  This repo is assuming you want to do (1).  If you want to do (2) you should fill out the Gradescope proposal for that instead of using this repo.\n",
    "\n",
    "You will design and execute a machine learning project. There are a few constraints on the nature of the allowed project. \n",
    "- The problem addressed will not be a \"toy problem\" or \"common training students problem\" like 8-Queens or a small Traveling Salesman Problem or similar\n",
    "- If its the kind of problem (e.g., RL) that interacts with a simulator or live task, then the problem will have a reasonably complex action space. For instance, a wupus world kind of thing with a 9x9 grid is definitely too small.  A simulated mountain car with a less complex 2-d road and simplified dynamics seems like a fairly low achievement level.  A more complex 3-d mountain car simulation with large extent and realistic dynamics, sure sounds great!\n",
    "- If its the kind of problem that uses a dataset, then the dataset will have >1k observations and >5 variables. I'd prefer more like >10k observations and >10 variables. A general rule is that if you have >100x more observations than variables, your solution will likely generalize a lot better. The goal of training an unsupervised machine learning model is to learn the underlying pattern in a dataset in order to generalize well to unseen data, so choosing a large dataset is very important.\n",
    "- The project must include some elements we talked about in the course\n",
    "- The project will include a model selection and/or feature selection component where you will be looking for the best setup to maximize the performance of your ML system.\n",
    "- You will evaluate the performance of your ML system using more than one appropriate metric\n",
    "- You will be writing a report describing and discussing these accomplishments\n",
    "\n",
    "\n",
    "Feel free to delete this description section when you hand in your proposal."
   ]
  },
  {
   "cell_type": "markdown",
   "metadata": {},
   "source": [
    "# Names\n",
    "\n",
    "Hopefully your team is at least this good. Obviously you should replace these with your names.\n",
    "\n",
    "- Alex Park\n",
    "- Sandra Lin\n",
    "- Derrick Lin"
   ]
  },
  {
   "cell_type": "markdown",
   "metadata": {},
   "source": [
    "# Abstract \n",
    "This section should be short and clearly stated. It should be a single paragraph <200 words.  It should summarize: \n",
    "- what your goal/problem is\n",
    "- what the data used represents and how they are measured\n",
    "- what you will be doing with the data\n",
    "- how performance/success will be measured\n",
    "\n",
    "Optimized Scheduling and Resource Allocation\n",
    "Techniques Used:\n",
    "Genetic Algorithms and Simulated Annealing: For finding optimal scheduling solutions that balance multiple constraints and objectives.\n",
    "Markov Decision Processes (MDPs): To model decision-making processes in an environment with uncertain outcomes.\n",
    "Dynamic Programming: For efficient computation of optimal policies in resource allocation.\n",
    "Course Relevance: Incorporates uncertainty and partial observability in practical applications, applying complex algorithms to derive efficient solutions."
   ]
  },
  {
   "cell_type": "markdown",
   "metadata": {},
   "source": [
    "# Background\n",
    "\n",
    "Fill in the background and discuss the kind of prior work that has gone on in this research area here. **Use inline citation** to specify which references support which statements.  You can do that through HTML footnotes (demonstrated here). I used to reccommend Markdown footnotes (google is your friend) because they are simpler but recently I have had some problems with them working for me whereas HTML ones always work so far. So use the method that works for you, but do use inline citations.\n",
    "\n",
    "Here is an example of inline citation. After government genocide in the 20th century, real birds were replaced with surveillance drones designed to look just like birds<a name=\"lorenz\"></a>[<sup>[1]</sup>](#lorenznote). Use a minimum of 2 or 3 citations, but we prefer more <a name=\"admonish\"></a>[<sup>[2]</sup>](#admonishnote). You need enough citations to fully explain and back up important facts. \n",
    "\n",
    "Remeber you are trying to explain why someone would want to answer your question or why your hypothesis is in the form that you've stated. "
   ]
  },
  {
   "cell_type": "markdown",
   "metadata": {},
   "source": [
    "# Problem Statement\n",
    "\n",
    "Clearly describe the problem that you are solving. Avoid ambiguous words. The problem described should be well defined and should have at least one ML-relevant potential solution. Additionally, describe the problem thoroughly such that it is clear that the problem is quantifiable (the problem can be expressed in mathematical or logical terms), measurable (the problem can be measured by some metric and clearly observed), and replicable (the problem can be reproduced and occurs more than once)."
   ]
  },
  {
   "cell_type": "markdown",
   "metadata": {},
   "source": [
    "# Data\n",
    "\n",
    "<!--You should have a strong idea of what dataset(s) will be used to accomplish this project. \n",
    "\n",
    "If you know what (some) of the data you will use, please give the following information for each dataset:\n",
    "- link/reference to obtain it\n",
    "- description of the size of the dataset (# of variables, # of observations)\n",
    "- what an observation consists of\n",
    "- what some critical variables are, how they are represented\n",
    "- any special handling, transformations, cleaning, etc will be needed\n",
    "\n",
    "If you don't yet know what your dataset(s) will be, you should describe what you desire in terms of the above bullets.-->\n",
    "\n",
    "For our project, we will be using the Breast Cancer Wisconsin (Original) dataset, available from the UCI Machine Learning Repository. This dataset is a classic in medical data analysis, particularly for machine learning applications aimed at understanding cancer classification based on various diagnostic measurements.\n",
    "\n",
    "### Dataset Characteristics\n",
    "- **Source**: [Breast Cancer Wisconsin (Original) - UCI Machine Learning Repository](https://archive.ics.uci.edu/ml/datasets/Breast+Cancer+Wisconsin+(Original))\n",
    "- **Number of Instances**: 699\n",
    "- **Number of Features**: 9, plus the class attribute\n",
    "- **Missing Values**: Yes, specifically in the 'Bare Nuclei' feature\n",
    "\n",
    "### Description of Data\n",
    "The dataset comprises measurements from digitized images of fine needle aspirate (FNA) of breast mass. Each instance corresponds to an image, with the following attributes (excluding the ID number which we will disregard for analysis):\n",
    "1. **Clump Thickness**: Integer (1-10)\n",
    "2. **Uniformity of Cell Size**: Integer (1-10)\n",
    "3. **Uniformity of Cell Shape**: Integer (1-10)\n",
    "4. **Marginal Adhesion**: Integer (1-10)\n",
    "5. **Single Epithelial Cell Size**: Integer (1-10)\n",
    "6. **Bare Nuclei**: Integer (1-10), contains missing values\n",
    "7. **Bland Chromatin**: Integer (1-10)\n",
    "8. **Normal Nucleoli**: Integer (1-10)\n",
    "9. **Mitoses**: Integer (1-10)\n",
    "\n",
    "### Class Labels\n",
    "- **Benign**: Encoded as 2\n",
    "- **Malignant**: Encoded as 4\n",
    "\n",
    "### Critical Variables\n",
    "- **Bare Nuclei**: This feature contains missing values and will require imputation. Given its clinical significance in cancer diagnosis, how we handle its missing data could significantly influence model performance.\n",
    "- **Clump Thickness** and **Uniformity of Cell Size**: These features are particularly noteworthy as they can indicate the severity of cancerous formations.\n",
    "\n",
    "### Data Handling\n",
    "Due to the presence of missing values in the 'Bare Nuclei' feature, we will need to perform data cleaning. Options include imputation using statistical methods or more complex machine learning models. Additionally, given the range and nature of the features, standardizing or normalizing the data might be necessary to improve algorithm performance.\n",
    "\n",
    "This dataset, with its rich feature set and real-world applicability, offers a robust platform for developing and testing machine learning models aimed at classifying cancerous conditions, thus potentially improving diagnostic processes in medical practice."
   ]
  },
  {
   "cell_type": "markdown",
   "metadata": {},
   "source": [
    "# Proposed Solution\n",
    "\n",
    "<!--In this section, clearly describe a solution to the problem. The solution should be applicable to the project domain and appropriate for the dataset(s) or input(s) given. Provide enough detail (e.g., algorithmic description and/or theoretical properties) to convince us that your solution is applicable. Why might your solution work? Make sure to describe how the solution will be tested.  \n",
    "\n",
    "If you know details already, describe how (e.g., library used, function calls) you plan to implement the solution in a way that is reproducible.\n",
    "\n",
    "If it is appropriate to the problem statement, describe a benchmark model<a name=\"sota\"></a>[<sup>[3]</sup>](#sotanote) against which your solution will be compared. -->\n",
    "\n",
    "The primary goal is to accurately predict the malignancy of breast cancer samples based on several cell features. Below are the key components and methodologies of our proposed solution:\n",
    "\n",
    "1. **Machine Learning Models**: We will employ various machine learning models including Support Vector Machines, Random Forests, and Neural Networks. These models are chosen due to their proven effectiveness in handling binary classification tasks like cancer diagnosis.\n",
    "\n",
    "2. **Feature Engineering and Selection**:\n",
    "   - **Handling Missing Data**: We will address missing values in the 'Bare Nuclei' feature using predictive modeling, possibly employing a simpler classifier to impute these values.\n",
    "   - **Feature Selection Techniques**: To identify the most predictive features, we will use Recursive Feature Elimination (RFE) and feature importance scores from ensemble methods like Random Forests.\n",
    "\n",
    "3. **Optimization Algorithms**:\n",
    "   - **Genetic Algorithms (GA)**: Inspired by evolutionary biology, GA will be used for feature selection to optimize the subset of features that results in the best predictive performance.\n",
    "   - **Simulated Annealing**: This technique will be explored to optimize hyperparameters of the chosen models, enhancing the model's ability to generalize to unseen data.\n",
    "\n",
    "4. **Reinforcement Learning (RL)**:\n",
    "   - While RL is typically not used in static classification tasks, we propose a novel approach by treating the feature selection process as an episodic reinforcement learning problem, where the agent's actions involve selecting or excluding features, and rewards are based on model accuracy and complexity.\n",
    "\n",
    "5. **Evaluation Strategy**:\n",
    "   - We will continuously evaluate the models during the training process using a validation set, and finally on a separated test set to ensure that our models generalize well beyond the training data.\n",
    "\n",
    "By integrating these sophisticated AI and machine learning techniques, our project aims not only to achieve high accuracy in breast cancer diagnosis but also to push forward the methodological boundaries by exploring how strategies from different subfields of AI can enhance traditional predictive modeling."
   ]
  },
  {
   "cell_type": "markdown",
   "metadata": {},
   "source": [
    "# Evaluation Metrics\n",
    "\n",
    "<!--Propose at least one evaluation metric that can be used to quantify the performance of both the benchmark model and the solution model. The evaluation metric(s) you propose should be appropriate given the context of the data, the problem statement, and the intended solution. Describe how the evaluation metric(s) are derived and provide an example of their mathematical representations (if applicable). Complex evaluation metrics should be clearly defined and quantifiable (can be expressed in mathematical or logical terms).-->\n",
    "\n",
    "To robustly evaluate the performance of our machine learning models on the Breast Cancer Wisconsin (Original) dataset, we propose using the following metrics specifically chosen to capture both the accuracy and reliability of the diagnostic predictions:\n",
    "\n",
    "1. **Accuracy**: This is a straightforward indicator of how often the model correctly identifies cancer status. It provides the proportion of total correct predictions (both benign and malignant) out of all predictions made.\n",
    "\n",
    "2. **Confusion Matrix-derived Metrics**:\n",
    "   - **Precision**: Measures the proportion of positive identifications that were actually correct, crucial for minimizing false alarms in medical diagnostics.\n",
    "   - **Recall** (Sensitivity): Measures the proportion of actual positives that were correctly identified, essential for detecting as many true cases of cancer as possible.\n",
    "   - **F1 Score**: The harmonic mean of precision and recall, providing a balance between the two in cases of class imbalance.\n",
    "\n",
    "3. **ROC-AUC Score**: This metric will help understand the trade-offs between true positive rate and false positive rate, which is crucial for medical diagnostics where the consequences of both types of errors are significant. The Area Under the Curve (AUC) provides a single measure of overall model performance across all classification thresholds.\n",
    "\n",
    "These metrics will be computed using a cross-validated approach to ensure robustness against overfitting and provide a realistic estimation of the model’s performance on unseen data. This comprehensive evaluation strategy will allow us to compare the performance of different models and configurations accurately, ensuring the selection of the best model and settings for deployment."
   ]
  },
  {
   "cell_type": "markdown",
   "metadata": {},
   "source": [
    "# Ethics & Privacy"
   ]
  },
  {
   "cell_type": "markdown",
   "metadata": {},
   "source": [
    "If your project has obvious potential concerns with ethics or data privacy discuss that here.  Almost every ML project put into production can have ethical implications if you use your imagination. Use your imagination. Get creative!\n",
    "\n",
    "Even if you can't come up with an obvious ethical concern that should be addressed, you should know that a large number of ML projects that go into producation have unintended consequences and ethical problems once in production. How will your team address these issues?\n",
    "\n",
    "Consider a tool to help you address the potential issues such as https://deon.drivendata.org"
   ]
  },
  {
   "cell_type": "markdown",
   "metadata": {},
   "source": [
    "# Team Expectations "
   ]
  },
  {
   "cell_type": "markdown",
   "metadata": {},
   "source": [
    "Put things here that cement how you will interact/communicate as a team, how you will handle conflict and difficulty, how you will handle making decisions and setting goals/schedule, how much work you expect from each other, how you will handle deadlines, etc...\n",
    "* *Team Expectation 1*\n",
    "* *Team Expectation 2*\n",
    "* *Team Expecation 3*\n",
    "* ..."
   ]
  },
  {
   "cell_type": "markdown",
   "metadata": {},
   "source": [
    "# Project Timeline Proposal"
   ]
  },
  {
   "cell_type": "markdown",
   "metadata": {},
   "source": [
    "Replace this with something meaningful that is appropriate for your needs. It doesn't have to be something that fits this format.  It doesn't have to be set in stone... \"no battle plan survives contact with the enemy\". But you need a battle plan nonetheless, and you need to keep it updated so you understand what you are trying to accomplish, who's responsible for what, and what the expected due dates are for each item.\n",
    "\n",
    "| Meeting Date  | Meeting Time| Completed Before Meeting  | Discuss at Meeting |\n",
    "|---|---|---|---|\n",
    "| 1/20  |  1 PM |  Brainstorm topics/questions (all)  | Determine best form of communication; Discuss and decide on final project topic; discuss hypothesis; begin background research | \n",
    "| 1/26  |  10 AM |  Do background research on topic (Pelé) | Discuss ideal dataset(s) and ethics; draft project proposal | \n",
    "| 2/1  | 10 AM  | Edit, finalize, and submit proposal; Search for datasets (Beckenbaur)  | Discuss Wrangling and possible analytical approaches; Assign group members to lead each specific part   |\n",
    "| 2/14  | 6 PM  | Import & Wrangle Data ,do some EDA (Maradonna) | Review/Edit wrangling/EDA; Discuss Analysis Plan   |\n",
    "| 2/23  | 12 PM  | Finalize wrangling/EDA; Begin programming for project (Cruyff) | Discuss/edit project code; Complete project |\n",
    "| 3/13  | 12 PM  | Complete analysis; Draft results/conclusion/discussion (Carlos)| Discuss/edit full project |\n",
    "| 3/19  | Before 11:59 PM  | NA | Turn in Final Project  |"
   ]
  },
  {
   "cell_type": "markdown",
   "metadata": {},
   "source": [
    "# Footnotes\n",
    "<a name=\"lorenznote\"></a>1.[^](#lorenz): Lorenz, T. (9 Dec 2021) Birds Aren’t Real, or Are They? Inside a Gen Z Conspiracy Theory. *The New York Times*. https://www.nytimes.com/2021/12/09/technology/birds-arent-real-gen-z-misinformation.html<br> \n",
    "<a name=\"admonishnote\"></a>2.[^](#admonish): Also refs should be important to the background, not some randomly chosen vaguely related stuff. Include a web link if possible in refs as above.<br>\n",
    "<a name=\"sotanote\"></a>3.[^](#sota): Perhaps the current state of the art solution such as you see on [Papers with code](https://paperswithcode.com/sota). Or maybe not SOTA, but rather a standard textbook/Kaggle solution to this kind of problem\n"
   ]
  },
  {
   "cell_type": "code",
   "execution_count": null,
   "metadata": {},
   "outputs": [],
   "source": []
  }
 ],
 "metadata": {
  "kernelspec": {
   "display_name": "Python 3 (ipykernel)",
   "language": "python",
   "name": "python3"
  },
  "language_info": {
   "codemirror_mode": {
    "name": "ipython",
    "version": 3
   },
   "file_extension": ".py",
   "mimetype": "text/x-python",
   "name": "python",
   "nbconvert_exporter": "python",
   "pygments_lexer": "ipython3",
   "version": "3.10.0"
  }
 },
 "nbformat": 4,
 "nbformat_minor": 2
}
